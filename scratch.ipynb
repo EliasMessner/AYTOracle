{
 "cells": [
  {
   "cell_type": "code",
   "execution_count": 14,
   "outputs": [
    {
     "data": {
      "text/plain": "'3.10.4 (main, Mar 31 2022, 08:41:55) [GCC 7.5.0]'"
     },
     "execution_count": 14,
     "metadata": {},
     "output_type": "execute_result"
    }
   ],
   "source": [
    "import sys\n",
    "sys.version"
   ],
   "metadata": {
    "collapsed": false
   }
  },
  {
   "cell_type": "code",
   "execution_count": 15,
   "metadata": {
    "collapsed": true
   },
   "outputs": [],
   "source": [
    "raw = \"\"\"Jessica x Leon\n",
    "Joelina x Mike\n",
    "Kerstin x Max\n",
    "Monami x Antonino\n",
    "Marie x Tim\n",
    "Zaira x Dustin\n",
    "Dana x William\n",
    "Isabelle x Marius\n",
    "Raphaela x Andre\n",
    "Estelle x Jordi\n",
    "\n",
    "Dana x Andre\n",
    "Estelle x Leon\n",
    "Isabelle x Dustin\n",
    "Jessica x Tim\n",
    "Joelina x Mike\n",
    "Kerstin x Max\n",
    "Marie x Marius\n",
    "Monami x Antonino\n",
    "Raphaela x William\n",
    "Zaira x Jordi\n",
    "\n",
    "Dana x William\n",
    "Estelle x Leon\n",
    "Isabelle x Marius\n",
    "Jessica x Jordi\n",
    "Joelina x Mike\n",
    "Kerstin x Antonino\n",
    "Marie x Tim\n",
    "Monami x Max\n",
    "Raphaela x Andre\n",
    "Zaira x Dustin\n",
    "\n",
    "Dana x William\n",
    "Estelle x Leon\n",
    "Isabelle x Andre\n",
    "Jessica x Marius\n",
    "Joelina x Mike\n",
    "Kerstin x Tim\n",
    "Marie x Max\n",
    "Monami x Antonino\n",
    "Raphaela x Jordi\n",
    "Zaira x Dustin\n",
    "\n",
    "Dana x William\n",
    "Estelle x Mike\n",
    "Isabelle x Dustin\n",
    "Jessica x Leon\n",
    "Joelina x Andre\n",
    "Kerstin x Antonino\n",
    "Monami x Max\n",
    "Raphaela x Marius\n",
    "Zaira x Jordi\n",
    "Desirée x Tim\n",
    "Marie x _\n",
    "\n",
    "Dana x Antonino\n",
    "Estelle x Mike\n",
    "Isabelle x Dustin\n",
    "Jessica x Leon\n",
    "Joelina x Tim\n",
    "Kerstin x Max\n",
    "Marie x Andre\n",
    "Raphaela x William\n",
    "Zaira x Marius\n",
    "Desirée x Jordi\n",
    "Monami x _\n",
    "\n",
    "Dana x Antonino\n",
    "Isabelle x Dustin\n",
    "Jessica x Leon\n",
    "Joelina x Mike\n",
    "Kerstin x Tim\n",
    "Marie x Max\n",
    "Monami x Jordi\n",
    "Raphaela x William\n",
    "Zaira x Marius\n",
    "Desirée x Andre\n",
    "Estelle x _\n",
    "\n",
    "Dana x Antonino\n",
    "Estelle x Mike\n",
    "Isabelle x Dustin\n",
    "Jessica x Leon\n",
    "Joelina x Tim\n",
    "Kerstin x Max\n",
    "Marie x Andre\n",
    "Monami x Jordi\n",
    "Raphaela x William\n",
    "Zaira x Marius\n",
    "Desirée x _\n",
    "\n",
    "Dana x Dustin\n",
    "Estelle x Mike\n",
    "Isabelle x Antonino\n",
    "Jessica x Leon\n",
    "Joelina x Tim\n",
    "Marie x William\n",
    "Monami x Jordi\n",
    "Raphaela x Max\n",
    "Zaira x Marius\n",
    "Desirée x Andre\n",
    "Kerstin x _\n",
    "\n",
    "Dana x Antonino\n",
    "Estelle x Jordi\n",
    "Isabelle x Andre\n",
    "Jessica x Leon\n",
    "Joelina x Mike\n",
    "Kerstin x Tim\n",
    "Marie x Dustin\n",
    "Monami x Max\n",
    "Raphaela x William\n",
    "Zaira x Marius\n",
    "Desirée x _\"\"\"\n",
    "confirmed_matches = [{\"Zaira\", \"Marius\"}]"
   ]
  },
  {
   "cell_type": "code",
   "execution_count": 16,
   "outputs": [],
   "source": [
    "match_counts = [\n",
    "    3, 2, 2, 3, 2, 4, 6, 4, 2, 10\n",
    "]"
   ],
   "metadata": {
    "collapsed": false
   }
  },
  {
   "cell_type": "code",
   "execution_count": 17,
   "outputs": [],
   "source": [
    "number_of_nights = 10"
   ],
   "metadata": {
    "collapsed": false
   }
  },
  {
   "cell_type": "code",
   "execution_count": 18,
   "outputs": [
    {
     "name": "stdout",
     "output_type": "stream",
     "text": [
      "Jessica x Leon\n",
      "Joelina x Mike\n",
      "Kerstin x Max\n",
      "Monami x Antonino\n",
      "Marie x Tim\n",
      "Zaira x Dustin\n",
      "Dana x William\n",
      "Isabelle x Marius\n",
      "Raphaela x Andre\n",
      "Estelle x Jordi\n",
      "\n",
      "Dana x \n"
     ]
    }
   ],
   "source": [
    "night_1 = raw[0:round(len(raw)/number_of_nights)]\n",
    "print(night_1)"
   ],
   "metadata": {
    "collapsed": false
   }
  },
  {
   "cell_type": "code",
   "execution_count": 19,
   "outputs": [
    {
     "name": "stdout",
     "output_type": "stream",
     "text": [
      "Jessica x Leon\n",
      "Joelina x Mike\n",
      "Kerstin x Max\n",
      "Monami x Antonino\n",
      "Marie x Tim\n",
      "Zaira x Dustin\n",
      "Dana x William\n",
      "Isabelle x Marius\n",
      "Raphaela x Andre\n",
      "Estelle x Jordi\n",
      "\n",
      "XXXXXXXXX\n",
      "\n",
      "Dana x Andre\n",
      "Estelle x Leon\n",
      "Isabelle x Dustin\n",
      "Jessica x Tim\n",
      "Joelina x Mike\n",
      "Kerstin x Max\n",
      "Marie x Marius\n",
      "Monami x Antonino\n",
      "Raphaela x William\n",
      "Zaira x Jordi\n",
      "\n",
      "XXXXXXXXX\n",
      "\n",
      "Dana x William\n",
      "Estelle x Leon\n",
      "Isabelle x Marius\n",
      "Jessica x Jordi\n",
      "Joelina x Mike\n",
      "Kerstin x Antonino\n",
      "Marie x Tim\n",
      "Monami x Max\n",
      "Raphaela x Andre\n",
      "Zaira x Dustin\n",
      "\n",
      "XXXXXXXXX\n",
      "\n",
      "Dana x William\n",
      "Estelle x Leon\n",
      "Isabelle x Andre\n",
      "Jessica x Marius\n",
      "Joelina x Mike\n",
      "Kerstin x Tim\n",
      "Marie x Max\n",
      "Monami x Antonino\n",
      "Raphaela x Jordi\n",
      "Zaira x Dustin\n",
      "\n",
      "XXXXXXXXX\n",
      "\n",
      "Dana x William\n",
      "Estelle x Mike\n",
      "Isabelle x Dustin\n",
      "Jessica x Leon\n",
      "Joelina x Andre\n",
      "Kerstin x Antonino\n",
      "Monami x Max\n",
      "Raphaela x Marius\n",
      "Zaira x Jordi\n",
      "Desirée x Tim\n",
      "Marie x _\n",
      "\n",
      "XXXXXXXXX\n",
      "\n",
      "Dana x Antonino\n",
      "Estelle x Mike\n",
      "Isabelle x Dustin\n",
      "Jessica x Leon\n",
      "Joelina x Tim\n",
      "Kerstin x Max\n",
      "Marie x Andre\n",
      "Raphaela x William\n",
      "Zaira x Marius\n",
      "Desirée x Jordi\n",
      "Monami x _\n",
      "\n",
      "XXXXXXXXX\n",
      "\n",
      "Dana x Antonino\n",
      "Isabelle x Dustin\n",
      "Jessica x Leon\n",
      "Joelina x Mike\n",
      "Kerstin x Tim\n",
      "Marie x Max\n",
      "Monami x Jordi\n",
      "Raphaela x William\n",
      "Zaira x Marius\n",
      "Desirée x Andre\n",
      "Estelle x _\n",
      "\n",
      "XXXXXXXXX\n",
      "\n",
      "Dana x Antonino\n",
      "Estelle x Mike\n",
      "Isabelle x Dustin\n",
      "Jessica x Leon\n",
      "Joelina x Tim\n",
      "Kerstin x Max\n",
      "Marie x Andre\n",
      "Monami x Jordi\n",
      "Raphaela x William\n",
      "Zaira x Marius\n",
      "Desirée x _\n",
      "\n",
      "XXXXXXXXX\n",
      "\n",
      "Dana x Dustin\n",
      "Estelle x Mike\n",
      "Isabelle x Antonino\n",
      "Jessica x Leon\n",
      "Joelina x Tim\n",
      "Marie x William\n",
      "Monami x Jordi\n",
      "Raphaela x Max\n",
      "Zaira x Marius\n",
      "Desirée x Andre\n",
      "Kerstin x _\n",
      "\n",
      "XXXXXXXXX\n",
      "\n",
      "Dana x Antonino\n",
      "Estelle x Jordi\n",
      "Isabelle x Andre\n",
      "Jessica x Leon\n",
      "Joelina x Mike\n",
      "Kerstin x Tim\n",
      "Marie x Dustin\n",
      "Monami x Max\n",
      "Raphaela x William\n",
      "Zaira x Marius\n",
      "Desirée x _\n",
      "\n",
      "XXXXXXXXX\n",
      "\n"
     ]
    }
   ],
   "source": [
    "nights = raw.split(\"\\n\\n\")\n",
    "for n in nights:\n",
    "    print(n)\n",
    "    print(\"\\nXXXXXXXXX\\n\")"
   ],
   "metadata": {
    "collapsed": false
   }
  },
  {
   "cell_type": "code",
   "execution_count": 20,
   "outputs": [
    {
     "data": {
      "text/plain": "['Jessica x Leon',\n 'Joelina x Mike',\n 'Kerstin x Max',\n 'Monami x Antonino',\n 'Marie x Tim',\n 'Zaira x Dustin',\n 'Dana x William',\n 'Isabelle x Marius',\n 'Raphaela x Andre',\n 'Estelle x Jordi']"
     },
     "execution_count": 20,
     "metadata": {},
     "output_type": "execute_result"
    }
   ],
   "source": [
    "nights[0].split(\"\\n\")"
   ],
   "metadata": {
    "collapsed": false
   }
  },
  {
   "cell_type": "code",
   "execution_count": 21,
   "outputs": [],
   "source": [
    "seating_plans = [[pair_raw.split(\" x \") for pair_raw in night.split(\"\\n\")] for night in nights]"
   ],
   "metadata": {
    "collapsed": false
   }
  },
  {
   "cell_type": "code",
   "execution_count": 22,
   "outputs": [],
   "source": [
    "from pprint import pprint"
   ],
   "metadata": {
    "collapsed": false
   }
  },
  {
   "cell_type": "code",
   "execution_count": 23,
   "outputs": [
    {
     "name": "stdout",
     "output_type": "stream",
     "text": [
      "[[['Jessica', 'Leon'],\n",
      "  ['Joelina', 'Mike'],\n",
      "  ['Kerstin', 'Max'],\n",
      "  ['Monami', 'Antonino'],\n",
      "  ['Marie', 'Tim'],\n",
      "  ['Zaira', 'Dustin'],\n",
      "  ['Dana', 'William'],\n",
      "  ['Isabelle', 'Marius'],\n",
      "  ['Raphaela', 'Andre'],\n",
      "  ['Estelle', 'Jordi']],\n",
      " [['Dana', 'Andre'],\n",
      "  ['Estelle', 'Leon'],\n",
      "  ['Isabelle', 'Dustin'],\n",
      "  ['Jessica', 'Tim'],\n",
      "  ['Joelina', 'Mike'],\n",
      "  ['Kerstin', 'Max'],\n",
      "  ['Marie', 'Marius'],\n",
      "  ['Monami', 'Antonino'],\n",
      "  ['Raphaela', 'William'],\n",
      "  ['Zaira', 'Jordi']],\n",
      " [['Dana', 'William'],\n",
      "  ['Estelle', 'Leon'],\n",
      "  ['Isabelle', 'Marius'],\n",
      "  ['Jessica', 'Jordi'],\n",
      "  ['Joelina', 'Mike'],\n",
      "  ['Kerstin', 'Antonino'],\n",
      "  ['Marie', 'Tim'],\n",
      "  ['Monami', 'Max'],\n",
      "  ['Raphaela', 'Andre'],\n",
      "  ['Zaira', 'Dustin']],\n",
      " [['Dana', 'William'],\n",
      "  ['Estelle', 'Leon'],\n",
      "  ['Isabelle', 'Andre'],\n",
      "  ['Jessica', 'Marius'],\n",
      "  ['Joelina', 'Mike'],\n",
      "  ['Kerstin', 'Tim'],\n",
      "  ['Marie', 'Max'],\n",
      "  ['Monami', 'Antonino'],\n",
      "  ['Raphaela', 'Jordi'],\n",
      "  ['Zaira', 'Dustin']],\n",
      " [['Dana', 'William'],\n",
      "  ['Estelle', 'Mike'],\n",
      "  ['Isabelle', 'Dustin'],\n",
      "  ['Jessica', 'Leon'],\n",
      "  ['Joelina', 'Andre'],\n",
      "  ['Kerstin', 'Antonino'],\n",
      "  ['Monami', 'Max'],\n",
      "  ['Raphaela', 'Marius'],\n",
      "  ['Zaira', 'Jordi'],\n",
      "  ['Desirée', 'Tim'],\n",
      "  ['Marie', '_']],\n",
      " [['Dana', 'Antonino'],\n",
      "  ['Estelle', 'Mike'],\n",
      "  ['Isabelle', 'Dustin'],\n",
      "  ['Jessica', 'Leon'],\n",
      "  ['Joelina', 'Tim'],\n",
      "  ['Kerstin', 'Max'],\n",
      "  ['Marie', 'Andre'],\n",
      "  ['Raphaela', 'William'],\n",
      "  ['Zaira', 'Marius'],\n",
      "  ['Desirée', 'Jordi'],\n",
      "  ['Monami', '_']],\n",
      " [['Dana', 'Antonino'],\n",
      "  ['Isabelle', 'Dustin'],\n",
      "  ['Jessica', 'Leon'],\n",
      "  ['Joelina', 'Mike'],\n",
      "  ['Kerstin', 'Tim'],\n",
      "  ['Marie', 'Max'],\n",
      "  ['Monami', 'Jordi'],\n",
      "  ['Raphaela', 'William'],\n",
      "  ['Zaira', 'Marius'],\n",
      "  ['Desirée', 'Andre'],\n",
      "  ['Estelle', '_']],\n",
      " [['Dana', 'Antonino'],\n",
      "  ['Estelle', 'Mike'],\n",
      "  ['Isabelle', 'Dustin'],\n",
      "  ['Jessica', 'Leon'],\n",
      "  ['Joelina', 'Tim'],\n",
      "  ['Kerstin', 'Max'],\n",
      "  ['Marie', 'Andre'],\n",
      "  ['Monami', 'Jordi'],\n",
      "  ['Raphaela', 'William'],\n",
      "  ['Zaira', 'Marius'],\n",
      "  ['Desirée', '_']],\n",
      " [['Dana', 'Dustin'],\n",
      "  ['Estelle', 'Mike'],\n",
      "  ['Isabelle', 'Antonino'],\n",
      "  ['Jessica', 'Leon'],\n",
      "  ['Joelina', 'Tim'],\n",
      "  ['Marie', 'William'],\n",
      "  ['Monami', 'Jordi'],\n",
      "  ['Raphaela', 'Max'],\n",
      "  ['Zaira', 'Marius'],\n",
      "  ['Desirée', 'Andre'],\n",
      "  ['Kerstin', '_']],\n",
      " [['Dana', 'Antonino'],\n",
      "  ['Estelle', 'Jordi'],\n",
      "  ['Isabelle', 'Andre'],\n",
      "  ['Jessica', 'Leon'],\n",
      "  ['Joelina', 'Mike'],\n",
      "  ['Kerstin', 'Tim'],\n",
      "  ['Marie', 'Dustin'],\n",
      "  ['Monami', 'Max'],\n",
      "  ['Raphaela', 'William'],\n",
      "  ['Zaira', 'Marius'],\n",
      "  ['Desirée', '_']]]\n"
     ]
    }
   ],
   "source": [
    "pprint(seating_plans)"
   ],
   "metadata": {
    "collapsed": false
   }
  },
  {
   "cell_type": "code",
   "execution_count": 24,
   "outputs": [],
   "source": [
    "from AYTOracle import get_all_possible_match_combinations"
   ],
   "metadata": {
    "collapsed": false
   }
  },
  {
   "cell_type": "code",
   "execution_count": 2,
   "outputs": [
    {
     "ename": "NameError",
     "evalue": "name 'get_all_possible_match_combinations' is not defined",
     "output_type": "error",
     "traceback": [
      "\u001B[0;31m---------------------------------------------------------------------------\u001B[0m",
      "\u001B[0;31mNameError\u001B[0m                                 Traceback (most recent call last)",
      "Cell \u001B[0;32mIn[2], line 1\u001B[0m\n\u001B[0;32m----> 1\u001B[0m r \u001B[38;5;241m=\u001B[39m \u001B[43mget_all_possible_match_combinations\u001B[49m(seating_plans, match_counts)\n\u001B[1;32m      2\u001B[0m pprint(r)\n",
      "\u001B[0;31mNameError\u001B[0m: name 'get_all_possible_match_combinations' is not defined"
     ]
    }
   ],
   "source": [
    "r = get_all_possible_match_combinations(seating_plans, match_counts)\n",
    "pprint(r)"
   ],
   "metadata": {
    "collapsed": false
   }
  }
 ],
 "metadata": {
  "kernelspec": {
   "name": "base",
   "language": "python",
   "display_name": "base"
  },
  "language_info": {
   "codemirror_mode": {
    "name": "ipython",
    "version": 2
   },
   "file_extension": ".py",
   "mimetype": "text/x-python",
   "name": "python",
   "nbconvert_exporter": "python",
   "pygments_lexer": "ipython2",
   "version": "2.7.6"
  }
 },
 "nbformat": 4,
 "nbformat_minor": 0
}
